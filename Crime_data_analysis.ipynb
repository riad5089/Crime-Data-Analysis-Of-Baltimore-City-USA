{
 "cells": [
  {
   "cell_type": "code",
   "execution_count": 1,
   "id": "01604ea0",
   "metadata": {},
   "outputs": [
    {
     "name": "stderr",
     "output_type": "stream",
     "text": [
      "C:\\Users\\Abdur rahim nishad\\anaconda3\\lib\\site-packages\\numpy\\_distributor_init.py:30: UserWarning: loaded more than 1 DLL from .libs:\n",
      "C:\\Users\\Abdur rahim nishad\\anaconda3\\lib\\site-packages\\numpy\\.libs\\libopenblas.EL2C6PLE4ZYW3ECEVIV3OXXGRN2NRFM2.gfortran-win_amd64.dll\n",
      "C:\\Users\\Abdur rahim nishad\\anaconda3\\lib\\site-packages\\numpy\\.libs\\libopenblas.XWYDX2IKJW2NMTWSFYNGFUWKQU3LYTCZ.gfortran-win_amd64.dll\n",
      "  warnings.warn(\"loaded more than 1 DLL from .libs:\"\n"
     ]
    }
   ],
   "source": [
    "import pandas as pd\n",
    "import numpy as np\n",
    "import matplotlib.pyplot as plt\n",
    "import seaborn as sns\n",
    "from datetime import datetime\n"
   ]
  },
  {
   "cell_type": "code",
   "execution_count": 2,
   "id": "d4ff05cd",
   "metadata": {},
   "outputs": [],
   "source": [
    "df=pd.read_csv(\"Crime_data.csv\")"
   ]
  },
  {
   "cell_type": "code",
   "execution_count": 3,
   "id": "e7d5452a",
   "metadata": {},
   "outputs": [],
   "source": [
    "# pd.set_option('max_rows', None)"
   ]
  },
  {
   "cell_type": "code",
   "execution_count": 4,
   "id": "630af5fe",
   "metadata": {},
   "outputs": [
    {
     "data": {
      "text/html": [
       "<div>\n",
       "<style scoped>\n",
       "    .dataframe tbody tr th:only-of-type {\n",
       "        vertical-align: middle;\n",
       "    }\n",
       "\n",
       "    .dataframe tbody tr th {\n",
       "        vertical-align: top;\n",
       "    }\n",
       "\n",
       "    .dataframe thead th {\n",
       "        text-align: right;\n",
       "    }\n",
       "</style>\n",
       "<table border=\"1\" class=\"dataframe\">\n",
       "  <thead>\n",
       "    <tr style=\"text-align: right;\">\n",
       "      <th></th>\n",
       "      <th>CrimeDateTime</th>\n",
       "      <th>CrimeCode</th>\n",
       "      <th>Location</th>\n",
       "      <th>Description</th>\n",
       "      <th>Weapon</th>\n",
       "      <th>Victim_Gender</th>\n",
       "      <th>Victim_Age</th>\n",
       "      <th>Victim_Race</th>\n",
       "      <th>District</th>\n",
       "    </tr>\n",
       "  </thead>\n",
       "  <tbody>\n",
       "    <tr>\n",
       "      <th>0</th>\n",
       "      <td>6/11/2023, 3:45 AM</td>\n",
       "      <td>7C</td>\n",
       "      <td>1500 CLIFTON AVE</td>\n",
       "      <td>AUTO THEFT</td>\n",
       "      <td>NaN</td>\n",
       "      <td>F</td>\n",
       "      <td>27.0</td>\n",
       "      <td>BLACK_OR_AFRICAN_AMERICAN</td>\n",
       "      <td>SOUTHEAST</td>\n",
       "    </tr>\n",
       "    <tr>\n",
       "      <th>1</th>\n",
       "      <td>6/10/2023, 7:00 PM</td>\n",
       "      <td>5F</td>\n",
       "      <td>NaN</td>\n",
       "      <td>BURGLARY</td>\n",
       "      <td>NaN</td>\n",
       "      <td>NaN</td>\n",
       "      <td>NaN</td>\n",
       "      <td>NaN</td>\n",
       "      <td>SOUTHERN</td>\n",
       "    </tr>\n",
       "    <tr>\n",
       "      <th>2</th>\n",
       "      <td>6/11/2023, 2:00 AM</td>\n",
       "      <td>7C</td>\n",
       "      <td>700 E 25TH ST</td>\n",
       "      <td>AUTO THEFT</td>\n",
       "      <td>NaN</td>\n",
       "      <td>NaN</td>\n",
       "      <td>NaN</td>\n",
       "      <td>NaN</td>\n",
       "      <td>NORTHEAST</td>\n",
       "    </tr>\n",
       "    <tr>\n",
       "      <th>3</th>\n",
       "      <td>6/10/2023, 8:16 PM</td>\n",
       "      <td>4E</td>\n",
       "      <td>4200 PIMLICO RD</td>\n",
       "      <td>COMMON ASSAULT</td>\n",
       "      <td>PERSONAL_WEAPONS</td>\n",
       "      <td>F</td>\n",
       "      <td>23.0</td>\n",
       "      <td>BLACK_OR_AFRICAN_AMERICAN</td>\n",
       "      <td>NORTHWEST</td>\n",
       "    </tr>\n",
       "    <tr>\n",
       "      <th>4</th>\n",
       "      <td>6/11/2023, 5:00 AM</td>\n",
       "      <td>4B</td>\n",
       "      <td>2900 CHERRYLAND RD</td>\n",
       "      <td>AGG. ASSAULT</td>\n",
       "      <td>KNIFE_CUTTING_INSTRUMENT</td>\n",
       "      <td>F</td>\n",
       "      <td>39.0</td>\n",
       "      <td>BLACK_OR_AFRICAN_AMERICAN</td>\n",
       "      <td>SOUTHERN</td>\n",
       "    </tr>\n",
       "    <tr>\n",
       "      <th>...</th>\n",
       "      <td>...</td>\n",
       "      <td>...</td>\n",
       "      <td>...</td>\n",
       "      <td>...</td>\n",
       "      <td>...</td>\n",
       "      <td>...</td>\n",
       "      <td>...</td>\n",
       "      <td>...</td>\n",
       "      <td>...</td>\n",
       "    </tr>\n",
       "    <tr>\n",
       "      <th>995</th>\n",
       "      <td>5/30/2023, 6:00 AM</td>\n",
       "      <td>5F</td>\n",
       "      <td>3000 PULASKI HWY</td>\n",
       "      <td>BURGLARY</td>\n",
       "      <td>NaN</td>\n",
       "      <td>M</td>\n",
       "      <td>44.0</td>\n",
       "      <td>NaN</td>\n",
       "      <td>SOUTHEAST</td>\n",
       "    </tr>\n",
       "    <tr>\n",
       "      <th>996</th>\n",
       "      <td>5/30/2023, 2:00 PM</td>\n",
       "      <td>6J</td>\n",
       "      <td>6200 OLD HARFORD RD</td>\n",
       "      <td>LARCENY</td>\n",
       "      <td>NaN</td>\n",
       "      <td>M</td>\n",
       "      <td>41.0</td>\n",
       "      <td>BLACK_OR_AFRICAN_AMERICAN</td>\n",
       "      <td>NORTHEAST</td>\n",
       "    </tr>\n",
       "    <tr>\n",
       "      <th>997</th>\n",
       "      <td>5/30/2023, 11:00 PM</td>\n",
       "      <td>6D</td>\n",
       "      <td>100 E Mt Royal Avenue</td>\n",
       "      <td>LARCENY FROM AUTO</td>\n",
       "      <td>NaN</td>\n",
       "      <td>F</td>\n",
       "      <td>33.0</td>\n",
       "      <td>WHITE</td>\n",
       "      <td>CENTRAL</td>\n",
       "    </tr>\n",
       "    <tr>\n",
       "      <th>998</th>\n",
       "      <td>5/30/2023, 10:00 PM</td>\n",
       "      <td>7C</td>\n",
       "      <td>4700 POST RD</td>\n",
       "      <td>AUTO THEFT</td>\n",
       "      <td>NaN</td>\n",
       "      <td>M</td>\n",
       "      <td>56.0</td>\n",
       "      <td>BLACK_OR_AFRICAN_AMERICAN</td>\n",
       "      <td>NORTHWEST</td>\n",
       "    </tr>\n",
       "    <tr>\n",
       "      <th>999</th>\n",
       "      <td>5/31/2023, 2:00 AM</td>\n",
       "      <td>7C</td>\n",
       "      <td>700 MELVILLE AVE</td>\n",
       "      <td>AUTO THEFT</td>\n",
       "      <td>NaN</td>\n",
       "      <td>F</td>\n",
       "      <td>29.0</td>\n",
       "      <td>BLACK_OR_AFRICAN_AMERICAN</td>\n",
       "      <td>NORTHERN</td>\n",
       "    </tr>\n",
       "  </tbody>\n",
       "</table>\n",
       "<p>1000 rows × 9 columns</p>\n",
       "</div>"
      ],
      "text/plain": [
       "           CrimeDateTime CrimeCode               Location        Description  \\\n",
       "0     6/11/2023, 3:45 AM        7C       1500 CLIFTON AVE         AUTO THEFT   \n",
       "1     6/10/2023, 7:00 PM        5F                    NaN           BURGLARY   \n",
       "2     6/11/2023, 2:00 AM        7C          700 E 25TH ST         AUTO THEFT   \n",
       "3     6/10/2023, 8:16 PM        4E        4200 PIMLICO RD     COMMON ASSAULT   \n",
       "4     6/11/2023, 5:00 AM        4B     2900 CHERRYLAND RD       AGG. ASSAULT   \n",
       "..                   ...       ...                    ...                ...   \n",
       "995   5/30/2023, 6:00 AM        5F       3000 PULASKI HWY           BURGLARY   \n",
       "996   5/30/2023, 2:00 PM        6J    6200 OLD HARFORD RD            LARCENY   \n",
       "997  5/30/2023, 11:00 PM        6D  100 E Mt Royal Avenue  LARCENY FROM AUTO   \n",
       "998  5/30/2023, 10:00 PM        7C           4700 POST RD         AUTO THEFT   \n",
       "999   5/31/2023, 2:00 AM        7C       700 MELVILLE AVE         AUTO THEFT   \n",
       "\n",
       "                       Weapon Victim_Gender  Victim_Age  \\\n",
       "0                         NaN             F        27.0   \n",
       "1                         NaN           NaN         NaN   \n",
       "2                         NaN           NaN         NaN   \n",
       "3            PERSONAL_WEAPONS             F        23.0   \n",
       "4    KNIFE_CUTTING_INSTRUMENT             F        39.0   \n",
       "..                        ...           ...         ...   \n",
       "995                       NaN             M        44.0   \n",
       "996                       NaN             M        41.0   \n",
       "997                       NaN             F        33.0   \n",
       "998                       NaN             M        56.0   \n",
       "999                       NaN             F        29.0   \n",
       "\n",
       "                   Victim_Race   District  \n",
       "0    BLACK_OR_AFRICAN_AMERICAN  SOUTHEAST  \n",
       "1                          NaN   SOUTHERN  \n",
       "2                          NaN  NORTHEAST  \n",
       "3    BLACK_OR_AFRICAN_AMERICAN  NORTHWEST  \n",
       "4    BLACK_OR_AFRICAN_AMERICAN   SOUTHERN  \n",
       "..                         ...        ...  \n",
       "995                        NaN  SOUTHEAST  \n",
       "996  BLACK_OR_AFRICAN_AMERICAN  NORTHEAST  \n",
       "997                      WHITE    CENTRAL  \n",
       "998  BLACK_OR_AFRICAN_AMERICAN  NORTHWEST  \n",
       "999  BLACK_OR_AFRICAN_AMERICAN   NORTHERN  \n",
       "\n",
       "[1000 rows x 9 columns]"
      ]
     },
     "execution_count": 4,
     "metadata": {},
     "output_type": "execute_result"
    }
   ],
   "source": [
    "df"
   ]
  },
  {
   "cell_type": "code",
   "execution_count": 5,
   "id": "432ee158",
   "metadata": {},
   "outputs": [
    {
     "data": {
      "text/plain": [
       "(1000, 9)"
      ]
     },
     "execution_count": 5,
     "metadata": {},
     "output_type": "execute_result"
    }
   ],
   "source": [
    "df.shape"
   ]
  },
  {
   "cell_type": "code",
   "execution_count": null,
   "id": "125a3276",
   "metadata": {},
   "outputs": [],
   "source": []
  },
  {
   "cell_type": "markdown",
   "id": "ddc822b0",
   "metadata": {},
   "source": [
    "# Null Value Handling"
   ]
  },
  {
   "cell_type": "code",
   "execution_count": 6,
   "id": "92618cde",
   "metadata": {},
   "outputs": [
    {
     "data": {
      "text/plain": [
       "CrimeDateTime      0\n",
       "CrimeCode          0\n",
       "Location          15\n",
       "Description        0\n",
       "Weapon           577\n",
       "Victim_Gender    119\n",
       "Victim_Age       139\n",
       "Victim_Race      213\n",
       "District           1\n",
       "dtype: int64"
      ]
     },
     "execution_count": 6,
     "metadata": {},
     "output_type": "execute_result"
    }
   ],
   "source": [
    "df.isna().sum()"
   ]
  },
  {
   "cell_type": "code",
   "execution_count": 7,
   "id": "b4a773c8",
   "metadata": {},
   "outputs": [],
   "source": [
    "df['Location'].fillna('Unknown', inplace=True)"
   ]
  },
  {
   "cell_type": "code",
   "execution_count": 8,
   "id": "35d7fb3c",
   "metadata": {},
   "outputs": [
    {
     "data": {
      "text/plain": [
       "Unknown                    15\n",
       "600 E 33RD ST               7\n",
       "3500 BEECH AVE              5\n",
       "4500 ERDMAN AVE             5\n",
       "0 E FAYETTE ST              4\n",
       "                           ..\n",
       "1300 CHURCH ST              1\n",
       "5400 SINCLAIR GREENS DR     1\n",
       "1400 MEDFIELD AVE           1\n",
       "3800 RIDGECROFT RD          1\n",
       "700 MELVILLE AVE            1\n",
       "Name: Location, Length: 806, dtype: int64"
      ]
     },
     "execution_count": 8,
     "metadata": {},
     "output_type": "execute_result"
    }
   ],
   "source": [
    "df.Location.value_counts()"
   ]
  },
  {
   "cell_type": "code",
   "execution_count": 9,
   "id": "c8899ddd",
   "metadata": {},
   "outputs": [],
   "source": [
    "df['Weapon'].fillna(\"Other\",inplace=True)"
   ]
  },
  {
   "cell_type": "code",
   "execution_count": 10,
   "id": "c265cb9e",
   "metadata": {},
   "outputs": [
    {
     "data": {
      "text/plain": [
       "0"
      ]
     },
     "execution_count": 10,
     "metadata": {},
     "output_type": "execute_result"
    }
   ],
   "source": [
    "df.Weapon.isna().sum()"
   ]
  },
  {
   "cell_type": "code",
   "execution_count": 11,
   "id": "7e6e9dec",
   "metadata": {},
   "outputs": [
    {
     "data": {
      "text/plain": [
       "Other                       577\n",
       "PERSONAL_WEAPONS            260\n",
       "FIREARM                      41\n",
       "HANDGUN                      37\n",
       "KNIFE_CUTTING_INSTRUMENT     33\n",
       "BLUNT_OBJECT                 29\n",
       "OTHER                        12\n",
       "UNKNOWN                       5\n",
       "SHOTGUN                       2\n",
       "MOTOR_VEHICLE_VESSEL          2\n",
       "KNIFE                         1\n",
       "AUTOMATIC_HANDGUN             1\n",
       "Name: Weapon, dtype: int64"
      ]
     },
     "execution_count": 11,
     "metadata": {},
     "output_type": "execute_result"
    }
   ],
   "source": [
    "df.Weapon.value_counts()"
   ]
  },
  {
   "cell_type": "code",
   "execution_count": 12,
   "id": "46447792",
   "metadata": {},
   "outputs": [
    {
     "data": {
      "text/plain": [
       "F         439\n",
       "M         419\n",
       "Male       15\n",
       "U           6\n",
       "Female      2\n",
       "Name: Victim_Gender, dtype: int64"
      ]
     },
     "execution_count": 12,
     "metadata": {},
     "output_type": "execute_result"
    }
   ],
   "source": [
    "df.Victim_Gender.value_counts()"
   ]
  },
  {
   "cell_type": "code",
   "execution_count": 13,
   "id": "9e4c664b",
   "metadata": {},
   "outputs": [],
   "source": [
    "df['Victim_Gender'] = df['Victim_Gender'].replace({'Female': 'F', 'Male': 'M'})\n"
   ]
  },
  {
   "cell_type": "code",
   "execution_count": 14,
   "id": "a4f4415e",
   "metadata": {},
   "outputs": [
    {
     "data": {
      "text/plain": [
       "F    441\n",
       "M    434\n",
       "U      6\n",
       "Name: Victim_Gender, dtype: int64"
      ]
     },
     "execution_count": 14,
     "metadata": {},
     "output_type": "execute_result"
    }
   ],
   "source": [
    "df['Victim_Gender'].value_counts()"
   ]
  },
  {
   "cell_type": "code",
   "execution_count": 15,
   "id": "f3f7ece5",
   "metadata": {},
   "outputs": [],
   "source": [
    "df['Victim_Gender'].fillna(\"U\",inplace=True)"
   ]
  },
  {
   "cell_type": "code",
   "execution_count": 16,
   "id": "5a2be955",
   "metadata": {},
   "outputs": [
    {
     "data": {
      "text/plain": [
       "F    441\n",
       "M    434\n",
       "U    125\n",
       "Name: Victim_Gender, dtype: int64"
      ]
     },
     "execution_count": 16,
     "metadata": {},
     "output_type": "execute_result"
    }
   ],
   "source": [
    "df['Victim_Gender'].value_counts()"
   ]
  },
  {
   "cell_type": "code",
   "execution_count": 17,
   "id": "8b4e1d22",
   "metadata": {},
   "outputs": [
    {
     "data": {
      "text/plain": [
       "0"
      ]
     },
     "execution_count": 17,
     "metadata": {},
     "output_type": "execute_result"
    }
   ],
   "source": [
    "df['Victim_Gender'].isna().sum()"
   ]
  },
  {
   "cell_type": "code",
   "execution_count": 18,
   "id": "c8c87970",
   "metadata": {},
   "outputs": [
    {
     "data": {
      "text/plain": [
       "93.0"
      ]
     },
     "execution_count": 18,
     "metadata": {},
     "output_type": "execute_result"
    }
   ],
   "source": [
    "df['Victim_Age'].max()"
   ]
  },
  {
   "cell_type": "code",
   "execution_count": 19,
   "id": "e1c061fd",
   "metadata": {},
   "outputs": [
    {
     "data": {
      "text/plain": [
       "0.0"
      ]
     },
     "execution_count": 19,
     "metadata": {},
     "output_type": "execute_result"
    }
   ],
   "source": [
    "df['Victim_Age'].min()     "
   ]
  },
  {
   "cell_type": "code",
   "execution_count": 20,
   "id": "119f5a6f",
   "metadata": {},
   "outputs": [
    {
     "data": {
      "text/plain": [
       "array([27., nan, 23., 39., 14., 37., 84., 32., 44., 53., 60., 41., 64.,\n",
       "       35., 10., 15., 20., 48., 81., 31., 28., 25., 33., 38., 56., 58.,\n",
       "       63., 36., 66., 19., 62., 24.,  1.,  3., 51., 42., 47., 30., 29.,\n",
       "       40., 65., 49., 50., 57., 21., 59., 72., 34., 46., 22., 61., 12.,\n",
       "       26., 43., 82., 52., 45., 13., 69., 55., 18., 71., 93.,  9.,  2.,\n",
       "       76., 73., 74., 70., 16., 85., 17., 67., 54., 68.,  7.,  8.,  0.,\n",
       "       78., 83.])"
      ]
     },
     "execution_count": 20,
     "metadata": {},
     "output_type": "execute_result"
    }
   ],
   "source": [
    "df['Victim_Age'].unique() "
   ]
  },
  {
   "cell_type": "code",
   "execution_count": 21,
   "id": "fe36cf7b",
   "metadata": {},
   "outputs": [
    {
     "name": "stderr",
     "output_type": "stream",
     "text": [
      "C:\\Users\\Abdur rahim nishad\\anaconda3\\lib\\site-packages\\seaborn\\distributions.py:2619: FutureWarning: `distplot` is a deprecated function and will be removed in a future version. Please adapt your code to use either `displot` (a figure-level function with similar flexibility) or `histplot` (an axes-level function for histograms).\n",
      "  warnings.warn(msg, FutureWarning)\n"
     ]
    },
    {
     "data": {
      "text/plain": [
       "<AxesSubplot:ylabel='Density'>"
      ]
     },
     "execution_count": 21,
     "metadata": {},
     "output_type": "execute_result"
    },
    {
     "data": {
      "image/png": "[encoded data removed]",
      "text/plain": [
       "<Figure size 432x288 with 1 Axes>"
      ]
     },
     "metadata": {
      "needs_background": "light"
     },
     "output_type": "display_data"
    }
   ],
   "source": [
    "sns.distplot(x=df['Victim_Age'])"
   ]
  },
  {
   "cell_type": "code",
   "execution_count": 22,
   "id": "ae4f8ce0",
   "metadata": {},
   "outputs": [
    {
     "data": {
      "text/plain": [
       "38"
      ]
     },
     "execution_count": 22,
     "metadata": {},
     "output_type": "execute_result"
    }
   ],
   "source": [
    "round(df.Victim_Age.mean())"
   ]
  },
  {
   "cell_type": "code",
   "execution_count": 23,
   "id": "d3be7abf",
   "metadata": {},
   "outputs": [],
   "source": [
    "df.Victim_Age.fillna(round(df.Victim_Age.mean()),inplace=True)"
   ]
  },
  {
   "cell_type": "code",
   "execution_count": 24,
   "id": "9b30cd76",
   "metadata": {},
   "outputs": [
    {
     "data": {
      "text/plain": [
       "0"
      ]
     },
     "execution_count": 24,
     "metadata": {},
     "output_type": "execute_result"
    }
   ],
   "source": [
    "df.Victim_Age.isna().sum()"
   ]
  },
  {
   "cell_type": "code",
   "execution_count": 25,
   "id": "71eb1b1d",
   "metadata": {},
   "outputs": [
    {
     "data": {
      "text/plain": [
       "BLACK_OR_AFRICAN_AMERICAN           589\n",
       "WHITE                               172\n",
       "ASIAN                                13\n",
       "UNKNOWN                               9\n",
       "AMERICAN_INDIAN_OR_ALASKA_NATIVE      4\n",
       "Name: Victim_Race, dtype: int64"
      ]
     },
     "execution_count": 25,
     "metadata": {},
     "output_type": "execute_result"
    }
   ],
   "source": [
    "df.Victim_Race.value_counts()"
   ]
  },
  {
   "cell_type": "code",
   "execution_count": 26,
   "id": "5f751e54",
   "metadata": {},
   "outputs": [],
   "source": [
    "df[\"Victim_Race\"].fillna(\"OTHER\",inplace=True)"
   ]
  },
  {
   "cell_type": "code",
   "execution_count": 27,
   "id": "1a149156",
   "metadata": {},
   "outputs": [],
   "source": [
    "df[\"Victim_Race\"].replace(\"UNKNOWN\",\"OTHER\",inplace=True)"
   ]
  },
  {
   "cell_type": "code",
   "execution_count": 28,
   "id": "d2ddf0d3",
   "metadata": {},
   "outputs": [
    {
     "data": {
      "text/plain": [
       "BLACK_OR_AFRICAN_AMERICAN           589\n",
       "OTHER                               222\n",
       "WHITE                               172\n",
       "ASIAN                                13\n",
       "AMERICAN_INDIAN_OR_ALASKA_NATIVE      4\n",
       "Name: Victim_Race, dtype: int64"
      ]
     },
     "execution_count": 28,
     "metadata": {},
     "output_type": "execute_result"
    }
   ],
   "source": [
    "df.Victim_Race.value_counts()"
   ]
  },
  {
   "cell_type": "code",
   "execution_count": 29,
   "id": "092dc179",
   "metadata": {},
   "outputs": [
    {
     "data": {
      "text/plain": [
       "NORTHEAST    184\n",
       "SOUTHEAST    127\n",
       "NORTHERN     114\n",
       "CENTRAL      110\n",
       "NORTHWEST    106\n",
       "SOUTHWEST    104\n",
       "SOUTHERN      91\n",
       "EASTERN       87\n",
       "WESTERN       76\n",
       "Name: District, dtype: int64"
      ]
     },
     "execution_count": 29,
     "metadata": {},
     "output_type": "execute_result"
    }
   ],
   "source": [
    "df.District.value_counts()"
   ]
  },
  {
   "cell_type": "code",
   "execution_count": 30,
   "id": "1f493395",
   "metadata": {},
   "outputs": [],
   "source": [
    "df[\"District\"].fillna(df[\"District\"].mode()[0],inplace=True)"
   ]
  },
  {
   "cell_type": "code",
   "execution_count": 31,
   "id": "16b7716d",
   "metadata": {},
   "outputs": [
    {
     "data": {
      "text/plain": [
       "CrimeDateTime    0\n",
       "CrimeCode        0\n",
       "Location         0\n",
       "Description      0\n",
       "Weapon           0\n",
       "Victim_Gender    0\n",
       "Victim_Age       0\n",
       "Victim_Race      0\n",
       "District         0\n",
       "dtype: int64"
      ]
     },
     "execution_count": 31,
     "metadata": {},
     "output_type": "execute_result"
    }
   ],
   "source": [
    "df.isna().sum()"
   ]
  },
  {
   "cell_type": "code",
   "execution_count": 32,
   "id": "6aaa5b16",
   "metadata": {},
   "outputs": [
    {
     "data": {
      "text/html": [
       "<div>\n",
       "<style scoped>\n",
       "    .dataframe tbody tr th:only-of-type {\n",
       "        vertical-align: middle;\n",
       "    }\n",
       "\n",
       "    .dataframe tbody tr th {\n",
       "        vertical-align: top;\n",
       "    }\n",
       "\n",
       "    .dataframe thead th {\n",
       "        text-align: right;\n",
       "    }\n",
       "</style>\n",
       "<table border=\"1\" class=\"dataframe\">\n",
       "  <thead>\n",
       "    <tr style=\"text-align: right;\">\n",
       "      <th></th>\n",
       "      <th>CrimeDateTime</th>\n",
       "      <th>CrimeCode</th>\n",
       "      <th>Location</th>\n",
       "      <th>Description</th>\n",
       "      <th>Weapon</th>\n",
       "      <th>Victim_Gender</th>\n",
       "      <th>Victim_Age</th>\n",
       "      <th>Victim_Race</th>\n",
       "      <th>District</th>\n",
       "    </tr>\n",
       "  </thead>\n",
       "  <tbody>\n",
       "    <tr>\n",
       "      <th>0</th>\n",
       "      <td>6/11/2023, 3:45 AM</td>\n",
       "      <td>7C</td>\n",
       "      <td>1500 CLIFTON AVE</td>\n",
       "      <td>AUTO THEFT</td>\n",
       "      <td>Other</td>\n",
       "      <td>F</td>\n",
       "      <td>27.0</td>\n",
       "      <td>BLACK_OR_AFRICAN_AMERICAN</td>\n",
       "      <td>SOUTHEAST</td>\n",
       "    </tr>\n",
       "    <tr>\n",
       "      <th>1</th>\n",
       "      <td>6/10/2023, 7:00 PM</td>\n",
       "      <td>5F</td>\n",
       "      <td>Unknown</td>\n",
       "      <td>BURGLARY</td>\n",
       "      <td>Other</td>\n",
       "      <td>U</td>\n",
       "      <td>38.0</td>\n",
       "      <td>OTHER</td>\n",
       "      <td>SOUTHERN</td>\n",
       "    </tr>\n",
       "    <tr>\n",
       "      <th>2</th>\n",
       "      <td>6/11/2023, 2:00 AM</td>\n",
       "      <td>7C</td>\n",
       "      <td>700 E 25TH ST</td>\n",
       "      <td>AUTO THEFT</td>\n",
       "      <td>Other</td>\n",
       "      <td>U</td>\n",
       "      <td>38.0</td>\n",
       "      <td>OTHER</td>\n",
       "      <td>NORTHEAST</td>\n",
       "    </tr>\n",
       "    <tr>\n",
       "      <th>3</th>\n",
       "      <td>6/10/2023, 8:16 PM</td>\n",
       "      <td>4E</td>\n",
       "      <td>4200 PIMLICO RD</td>\n",
       "      <td>COMMON ASSAULT</td>\n",
       "      <td>PERSONAL_WEAPONS</td>\n",
       "      <td>F</td>\n",
       "      <td>23.0</td>\n",
       "      <td>BLACK_OR_AFRICAN_AMERICAN</td>\n",
       "      <td>NORTHWEST</td>\n",
       "    </tr>\n",
       "    <tr>\n",
       "      <th>4</th>\n",
       "      <td>6/11/2023, 5:00 AM</td>\n",
       "      <td>4B</td>\n",
       "      <td>2900 CHERRYLAND RD</td>\n",
       "      <td>AGG. ASSAULT</td>\n",
       "      <td>KNIFE_CUTTING_INSTRUMENT</td>\n",
       "      <td>F</td>\n",
       "      <td>39.0</td>\n",
       "      <td>BLACK_OR_AFRICAN_AMERICAN</td>\n",
       "      <td>SOUTHERN</td>\n",
       "    </tr>\n",
       "    <tr>\n",
       "      <th>...</th>\n",
       "      <td>...</td>\n",
       "      <td>...</td>\n",
       "      <td>...</td>\n",
       "      <td>...</td>\n",
       "      <td>...</td>\n",
       "      <td>...</td>\n",
       "      <td>...</td>\n",
       "      <td>...</td>\n",
       "      <td>...</td>\n",
       "    </tr>\n",
       "    <tr>\n",
       "      <th>995</th>\n",
       "      <td>5/30/2023, 6:00 AM</td>\n",
       "      <td>5F</td>\n",
       "      <td>3000 PULASKI HWY</td>\n",
       "      <td>BURGLARY</td>\n",
       "      <td>Other</td>\n",
       "      <td>M</td>\n",
       "      <td>44.0</td>\n",
       "      <td>OTHER</td>\n",
       "      <td>SOUTHEAST</td>\n",
       "    </tr>\n",
       "    <tr>\n",
       "      <th>996</th>\n",
       "      <td>5/30/2023, 2:00 PM</td>\n",
       "      <td>6J</td>\n",
       "      <td>6200 OLD HARFORD RD</td>\n",
       "      <td>LARCENY</td>\n",
       "      <td>Other</td>\n",
       "      <td>M</td>\n",
       "      <td>41.0</td>\n",
       "      <td>BLACK_OR_AFRICAN_AMERICAN</td>\n",
       "      <td>NORTHEAST</td>\n",
       "    </tr>\n",
       "    <tr>\n",
       "      <th>997</th>\n",
       "      <td>5/30/2023, 11:00 PM</td>\n",
       "      <td>6D</td>\n",
       "      <td>100 E Mt Royal Avenue</td>\n",
       "      <td>LARCENY FROM AUTO</td>\n",
       "      <td>Other</td>\n",
       "      <td>F</td>\n",
       "      <td>33.0</td>\n",
       "      <td>WHITE</td>\n",
       "      <td>CENTRAL</td>\n",
       "    </tr>\n",
       "    <tr>\n",
       "      <th>998</th>\n",
       "      <td>5/30/2023, 10:00 PM</td>\n",
       "      <td>7C</td>\n",
       "      <td>4700 POST RD</td>\n",
       "      <td>AUTO THEFT</td>\n",
       "      <td>Other</td>\n",
       "      <td>M</td>\n",
       "      <td>56.0</td>\n",
       "      <td>BLACK_OR_AFRICAN_AMERICAN</td>\n",
       "      <td>NORTHWEST</td>\n",
       "    </tr>\n",
       "    <tr>\n",
       "      <th>999</th>\n",
       "      <td>5/31/2023, 2:00 AM</td>\n",
       "      <td>7C</td>\n",
       "      <td>700 MELVILLE AVE</td>\n",
       "      <td>AUTO THEFT</td>\n",
       "      <td>Other</td>\n",
       "      <td>F</td>\n",
       "      <td>29.0</td>\n",
       "      <td>BLACK_OR_AFRICAN_AMERICAN</td>\n",
       "      <td>NORTHERN</td>\n",
       "    </tr>\n",
       "  </tbody>\n",
       "</table>\n",
       "<p>1000 rows × 9 columns</p>\n",
       "</div>"
      ],
      "text/plain": [
       "           CrimeDateTime CrimeCode               Location        Description  \\\n",
       "0     6/11/2023, 3:45 AM        7C       1500 CLIFTON AVE         AUTO THEFT   \n",
       "1     6/10/2023, 7:00 PM        5F                Unknown           BURGLARY   \n",
       "2     6/11/2023, 2:00 AM        7C          700 E 25TH ST         AUTO THEFT   \n",
       "3     6/10/2023, 8:16 PM        4E        4200 PIMLICO RD     COMMON ASSAULT   \n",
       "4     6/11/2023, 5:00 AM        4B     2900 CHERRYLAND RD       AGG. ASSAULT   \n",
       "..                   ...       ...                    ...                ...   \n",
       "995   5/30/2023, 6:00 AM        5F       3000 PULASKI HWY           BURGLARY   \n",
       "996   5/30/2023, 2:00 PM        6J    6200 OLD HARFORD RD            LARCENY   \n",
       "997  5/30/2023, 11:00 PM        6D  100 E Mt Royal Avenue  LARCENY FROM AUTO   \n",
       "998  5/30/2023, 10:00 PM        7C           4700 POST RD         AUTO THEFT   \n",
       "999   5/31/2023, 2:00 AM        7C       700 MELVILLE AVE         AUTO THEFT   \n",
       "\n",
       "                       Weapon Victim_Gender  Victim_Age  \\\n",
       "0                       Other             F        27.0   \n",
       "1                       Other             U        38.0   \n",
       "2                       Other             U        38.0   \n",
       "3            PERSONAL_WEAPONS             F        23.0   \n",
       "4    KNIFE_CUTTING_INSTRUMENT             F        39.0   \n",
       "..                        ...           ...         ...   \n",
       "995                     Other             M        44.0   \n",
       "996                     Other             M        41.0   \n",
       "997                     Other             F        33.0   \n",
       "998                     Other             M        56.0   \n",
       "999                     Other             F        29.0   \n",
       "\n",
       "                   Victim_Race   District  \n",
       "0    BLACK_OR_AFRICAN_AMERICAN  SOUTHEAST  \n",
       "1                        OTHER   SOUTHERN  \n",
       "2                        OTHER  NORTHEAST  \n",
       "3    BLACK_OR_AFRICAN_AMERICAN  NORTHWEST  \n",
       "4    BLACK_OR_AFRICAN_AMERICAN   SOUTHERN  \n",
       "..                         ...        ...  \n",
       "995                      OTHER  SOUTHEAST  \n",
       "996  BLACK_OR_AFRICAN_AMERICAN  NORTHEAST  \n",
       "997                      WHITE    CENTRAL  \n",
       "998  BLACK_OR_AFRICAN_AMERICAN  NORTHWEST  \n",
       "999  BLACK_OR_AFRICAN_AMERICAN   NORTHERN  \n",
       "\n",
       "[1000 rows x 9 columns]"
      ]
     },
     "execution_count": 32,
     "metadata": {},
     "output_type": "execute_result"
    }
   ],
   "source": [
    "df"
   ]
  },
  {
   "cell_type": "code",
   "execution_count": 33,
   "id": "811d780d",
   "metadata": {},
   "outputs": [
    {
     "data": {
      "text/plain": [
       "'3:45 AM'"
      ]
     },
     "execution_count": 33,
     "metadata": {},
     "output_type": "execute_result"
    }
   ],
   "source": [
    "df.CrimeDateTime.str.split(\", \")[0][1]"
   ]
  },
  {
   "cell_type": "code",
   "execution_count": 34,
   "id": "a61d1986",
   "metadata": {},
   "outputs": [],
   "source": [
    "df['Date'] = df.CrimeDateTime.apply(lambda x:x.split(\", \")[0])"
   ]
  },
  {
   "cell_type": "code",
   "execution_count": 35,
   "id": "336f953a",
   "metadata": {},
   "outputs": [],
   "source": [
    "df['Time'] = df.CrimeDateTime.apply(lambda x:x.split(\", \")[1])"
   ]
  },
  {
   "cell_type": "code",
   "execution_count": 36,
   "id": "d872c816",
   "metadata": {},
   "outputs": [],
   "source": [
    "df['Date']=pd.to_datetime(df['Date'])"
   ]
  },
  {
   "cell_type": "code",
   "execution_count": null,
   "id": "b1948769",
   "metadata": {},
   "outputs": [],
   "source": []
  },
  {
   "cell_type": "code",
   "execution_count": 37,
   "id": "51eb6f21",
   "metadata": {},
   "outputs": [
    {
     "data": {
      "text/html": [
       "<div>\n",
       "<style scoped>\n",
       "    .dataframe tbody tr th:only-of-type {\n",
       "        vertical-align: middle;\n",
       "    }\n",
       "\n",
       "    .dataframe tbody tr th {\n",
       "        vertical-align: top;\n",
       "    }\n",
       "\n",
       "    .dataframe thead th {\n",
       "        text-align: right;\n",
       "    }\n",
       "</style>\n",
       "<table border=\"1\" class=\"dataframe\">\n",
       "  <thead>\n",
       "    <tr style=\"text-align: right;\">\n",
       "      <th></th>\n",
       "      <th>CrimeDateTime</th>\n",
       "      <th>CrimeCode</th>\n",
       "      <th>Location</th>\n",
       "      <th>Description</th>\n",
       "      <th>Weapon</th>\n",
       "      <th>Victim_Gender</th>\n",
       "      <th>Victim_Age</th>\n",
       "      <th>Victim_Race</th>\n",
       "      <th>District</th>\n",
       "      <th>Date</th>\n",
       "      <th>Time</th>\n",
       "    </tr>\n",
       "  </thead>\n",
       "  <tbody>\n",
       "    <tr>\n",
       "      <th>0</th>\n",
       "      <td>6/11/2023, 3:45 AM</td>\n",
       "      <td>7C</td>\n",
       "      <td>1500 CLIFTON AVE</td>\n",
       "      <td>AUTO THEFT</td>\n",
       "      <td>Other</td>\n",
       "      <td>F</td>\n",
       "      <td>27.0</td>\n",
       "      <td>BLACK_OR_AFRICAN_AMERICAN</td>\n",
       "      <td>SOUTHEAST</td>\n",
       "      <td>2023-06-11</td>\n",
       "      <td>3:45 AM</td>\n",
       "    </tr>\n",
       "    <tr>\n",
       "      <th>1</th>\n",
       "      <td>6/10/2023, 7:00 PM</td>\n",
       "      <td>5F</td>\n",
       "      <td>Unknown</td>\n",
       "      <td>BURGLARY</td>\n",
       "      <td>Other</td>\n",
       "      <td>U</td>\n",
       "      <td>38.0</td>\n",
       "      <td>OTHER</td>\n",
       "      <td>SOUTHERN</td>\n",
       "      <td>2023-06-10</td>\n",
       "      <td>7:00 PM</td>\n",
       "    </tr>\n",
       "    <tr>\n",
       "      <th>2</th>\n",
       "      <td>6/11/2023, 2:00 AM</td>\n",
       "      <td>7C</td>\n",
       "      <td>700 E 25TH ST</td>\n",
       "      <td>AUTO THEFT</td>\n",
       "      <td>Other</td>\n",
       "      <td>U</td>\n",
       "      <td>38.0</td>\n",
       "      <td>OTHER</td>\n",
       "      <td>NORTHEAST</td>\n",
       "      <td>2023-06-11</td>\n",
       "      <td>2:00 AM</td>\n",
       "    </tr>\n",
       "    <tr>\n",
       "      <th>3</th>\n",
       "      <td>6/10/2023, 8:16 PM</td>\n",
       "      <td>4E</td>\n",
       "      <td>4200 PIMLICO RD</td>\n",
       "      <td>COMMON ASSAULT</td>\n",
       "      <td>PERSONAL_WEAPONS</td>\n",
       "      <td>F</td>\n",
       "      <td>23.0</td>\n",
       "      <td>BLACK_OR_AFRICAN_AMERICAN</td>\n",
       "      <td>NORTHWEST</td>\n",
       "      <td>2023-06-10</td>\n",
       "      <td>8:16 PM</td>\n",
       "    </tr>\n",
       "    <tr>\n",
       "      <th>4</th>\n",
       "      <td>6/11/2023, 5:00 AM</td>\n",
       "      <td>4B</td>\n",
       "      <td>2900 CHERRYLAND RD</td>\n",
       "      <td>AGG. ASSAULT</td>\n",
       "      <td>KNIFE_CUTTING_INSTRUMENT</td>\n",
       "      <td>F</td>\n",
       "      <td>39.0</td>\n",
       "      <td>BLACK_OR_AFRICAN_AMERICAN</td>\n",
       "      <td>SOUTHERN</td>\n",
       "      <td>2023-06-11</td>\n",
       "      <td>5:00 AM</td>\n",
       "    </tr>\n",
       "  </tbody>\n",
       "</table>\n",
       "</div>"
      ],
      "text/plain": [
       "        CrimeDateTime CrimeCode            Location     Description  \\\n",
       "0  6/11/2023, 3:45 AM        7C    1500 CLIFTON AVE      AUTO THEFT   \n",
       "1  6/10/2023, 7:00 PM        5F             Unknown        BURGLARY   \n",
       "2  6/11/2023, 2:00 AM        7C       700 E 25TH ST      AUTO THEFT   \n",
       "3  6/10/2023, 8:16 PM        4E     4200 PIMLICO RD  COMMON ASSAULT   \n",
       "4  6/11/2023, 5:00 AM        4B  2900 CHERRYLAND RD    AGG. ASSAULT   \n",
       "\n",
       "                     Weapon Victim_Gender  Victim_Age  \\\n",
       "0                     Other             F        27.0   \n",
       "1                     Other             U        38.0   \n",
       "2                     Other             U        38.0   \n",
       "3          PERSONAL_WEAPONS             F        23.0   \n",
       "4  KNIFE_CUTTING_INSTRUMENT             F        39.0   \n",
       "\n",
       "                 Victim_Race   District       Date     Time  \n",
       "0  BLACK_OR_AFRICAN_AMERICAN  SOUTHEAST 2023-06-11  3:45 AM  \n",
       "1                      OTHER   SOUTHERN 2023-06-10  7:00 PM  \n",
       "2                      OTHER  NORTHEAST 2023-06-11  2:00 AM  \n",
       "3  BLACK_OR_AFRICAN_AMERICAN  NORTHWEST 2023-06-10  8:16 PM  \n",
       "4  BLACK_OR_AFRICAN_AMERICAN   SOUTHERN 2023-06-11  5:00 AM  "
      ]
     },
     "execution_count": 37,
     "metadata": {},
     "output_type": "execute_result"
    }
   ],
   "source": [
    "df.head()"
   ]
  },
  {
   "cell_type": "code",
   "execution_count": 38,
   "id": "4b4f05bf",
   "metadata": {},
   "outputs": [
    {
     "data": {
      "text/plain": [
       "11:00 PM    29\n",
       "2:00 AM     28\n",
       "3:00 AM     25\n",
       "12:00 AM    24\n",
       "6:00 PM     23\n",
       "            ..\n",
       "6:10 AM      1\n",
       "2:53 AM      1\n",
       "4:56 AM      1\n",
       "5:23 AM      1\n",
       "11:58 AM     1\n",
       "Name: Time, Length: 354, dtype: int64"
      ]
     },
     "execution_count": 38,
     "metadata": {},
     "output_type": "execute_result"
    }
   ],
   "source": [
    "df.Time.value_counts()"
   ]
  },
  {
   "cell_type": "code",
   "execution_count": 39,
   "id": "cff34bfb",
   "metadata": {},
   "outputs": [
    {
     "data": {
      "text/plain": [
       "2023-06-10    105\n",
       "2023-05-31     95\n",
       "2023-05-13     92\n",
       "2023-05-03     81\n",
       "2023-04-22     77\n",
       "2023-05-12     76\n",
       "2023-05-30     73\n",
       "2023-04-23     66\n",
       "2023-05-02     51\n",
       "2023-06-11     46\n",
       "2023-06-09     40\n",
       "2023-05-22     39\n",
       "2023-04-12     31\n",
       "2023-05-04     26\n",
       "2023-06-01     22\n",
       "2023-05-23     19\n",
       "2023-04-13     19\n",
       "2023-05-21     10\n",
       "2023-04-01      9\n",
       "2023-03-31      8\n",
       "2023-04-21      6\n",
       "2023-05-14      5\n",
       "2023-04-24      4\n",
       "Name: Date, dtype: int64"
      ]
     },
     "execution_count": 39,
     "metadata": {},
     "output_type": "execute_result"
    }
   ],
   "source": [
    "df.Date.value_counts()"
   ]
  },
  {
   "cell_type": "code",
   "execution_count": 40,
   "id": "52f259a8",
   "metadata": {},
   "outputs": [
    {
     "data": {
      "text/html": [
       "<div>\n",
       "<style scoped>\n",
       "    .dataframe tbody tr th:only-of-type {\n",
       "        vertical-align: middle;\n",
       "    }\n",
       "\n",
       "    .dataframe tbody tr th {\n",
       "        vertical-align: top;\n",
       "    }\n",
       "\n",
       "    .dataframe thead th {\n",
       "        text-align: right;\n",
       "    }\n",
       "</style>\n",
       "<table border=\"1\" class=\"dataframe\">\n",
       "  <thead>\n",
       "    <tr style=\"text-align: right;\">\n",
       "      <th></th>\n",
       "      <th>CrimeDateTime</th>\n",
       "      <th>CrimeCode</th>\n",
       "      <th>Location</th>\n",
       "      <th>Description</th>\n",
       "      <th>Weapon</th>\n",
       "      <th>Victim_Gender</th>\n",
       "      <th>Victim_Age</th>\n",
       "      <th>Victim_Race</th>\n",
       "      <th>District</th>\n",
       "      <th>Date</th>\n",
       "      <th>Time</th>\n",
       "    </tr>\n",
       "  </thead>\n",
       "  <tbody>\n",
       "    <tr>\n",
       "      <th>0</th>\n",
       "      <td>6/11/2023, 3:45 AM</td>\n",
       "      <td>7C</td>\n",
       "      <td>1500 CLIFTON AVE</td>\n",
       "      <td>AUTO THEFT</td>\n",
       "      <td>Other</td>\n",
       "      <td>F</td>\n",
       "      <td>27.0</td>\n",
       "      <td>BLACK_OR_AFRICAN_AMERICAN</td>\n",
       "      <td>SOUTHEAST</td>\n",
       "      <td>2023-06-11</td>\n",
       "      <td>3:45 AM</td>\n",
       "    </tr>\n",
       "    <tr>\n",
       "      <th>1</th>\n",
       "      <td>6/10/2023, 7:00 PM</td>\n",
       "      <td>5F</td>\n",
       "      <td>Unknown</td>\n",
       "      <td>BURGLARY</td>\n",
       "      <td>Other</td>\n",
       "      <td>U</td>\n",
       "      <td>38.0</td>\n",
       "      <td>OTHER</td>\n",
       "      <td>SOUTHERN</td>\n",
       "      <td>2023-06-10</td>\n",
       "      <td>7:00 PM</td>\n",
       "    </tr>\n",
       "    <tr>\n",
       "      <th>2</th>\n",
       "      <td>6/11/2023, 2:00 AM</td>\n",
       "      <td>7C</td>\n",
       "      <td>700 E 25TH ST</td>\n",
       "      <td>AUTO THEFT</td>\n",
       "      <td>Other</td>\n",
       "      <td>U</td>\n",
       "      <td>38.0</td>\n",
       "      <td>OTHER</td>\n",
       "      <td>NORTHEAST</td>\n",
       "      <td>2023-06-11</td>\n",
       "      <td>2:00 AM</td>\n",
       "    </tr>\n",
       "    <tr>\n",
       "      <th>3</th>\n",
       "      <td>6/10/2023, 8:16 PM</td>\n",
       "      <td>4E</td>\n",
       "      <td>4200 PIMLICO RD</td>\n",
       "      <td>COMMON ASSAULT</td>\n",
       "      <td>PERSONAL_WEAPONS</td>\n",
       "      <td>F</td>\n",
       "      <td>23.0</td>\n",
       "      <td>BLACK_OR_AFRICAN_AMERICAN</td>\n",
       "      <td>NORTHWEST</td>\n",
       "      <td>2023-06-10</td>\n",
       "      <td>8:16 PM</td>\n",
       "    </tr>\n",
       "    <tr>\n",
       "      <th>4</th>\n",
       "      <td>6/11/2023, 5:00 AM</td>\n",
       "      <td>4B</td>\n",
       "      <td>2900 CHERRYLAND RD</td>\n",
       "      <td>AGG. ASSAULT</td>\n",
       "      <td>KNIFE_CUTTING_INSTRUMENT</td>\n",
       "      <td>F</td>\n",
       "      <td>39.0</td>\n",
       "      <td>BLACK_OR_AFRICAN_AMERICAN</td>\n",
       "      <td>SOUTHERN</td>\n",
       "      <td>2023-06-11</td>\n",
       "      <td>5:00 AM</td>\n",
       "    </tr>\n",
       "  </tbody>\n",
       "</table>\n",
       "</div>"
      ],
      "text/plain": [
       "        CrimeDateTime CrimeCode            Location     Description  \\\n",
       "0  6/11/2023, 3:45 AM        7C    1500 CLIFTON AVE      AUTO THEFT   \n",
       "1  6/10/2023, 7:00 PM        5F             Unknown        BURGLARY   \n",
       "2  6/11/2023, 2:00 AM        7C       700 E 25TH ST      AUTO THEFT   \n",
       "3  6/10/2023, 8:16 PM        4E     4200 PIMLICO RD  COMMON ASSAULT   \n",
       "4  6/11/2023, 5:00 AM        4B  2900 CHERRYLAND RD    AGG. ASSAULT   \n",
       "\n",
       "                     Weapon Victim_Gender  Victim_Age  \\\n",
       "0                     Other             F        27.0   \n",
       "1                     Other             U        38.0   \n",
       "2                     Other             U        38.0   \n",
       "3          PERSONAL_WEAPONS             F        23.0   \n",
       "4  KNIFE_CUTTING_INSTRUMENT             F        39.0   \n",
       "\n",
       "                 Victim_Race   District       Date     Time  \n",
       "0  BLACK_OR_AFRICAN_AMERICAN  SOUTHEAST 2023-06-11  3:45 AM  \n",
       "1                      OTHER   SOUTHERN 2023-06-10  7:00 PM  \n",
       "2                      OTHER  NORTHEAST 2023-06-11  2:00 AM  \n",
       "3  BLACK_OR_AFRICAN_AMERICAN  NORTHWEST 2023-06-10  8:16 PM  \n",
       "4  BLACK_OR_AFRICAN_AMERICAN   SOUTHERN 2023-06-11  5:00 AM  "
      ]
     },
     "execution_count": 40,
     "metadata": {},
     "output_type": "execute_result"
    }
   ],
   "source": [
    "df.head()"
   ]
  },
  {
   "cell_type": "code",
   "execution_count": 41,
   "id": "3b2cac35",
   "metadata": {},
   "outputs": [],
   "source": [
    "df=df.drop(\"CrimeDateTime\",axis=1)"
   ]
  },
  {
   "cell_type": "code",
   "execution_count": 42,
   "id": "6b221747",
   "metadata": {},
   "outputs": [
    {
     "data": {
      "text/html": [
       "<div>\n",
       "<style scoped>\n",
       "    .dataframe tbody tr th:only-of-type {\n",
       "        vertical-align: middle;\n",
       "    }\n",
       "\n",
       "    .dataframe tbody tr th {\n",
       "        vertical-align: top;\n",
       "    }\n",
       "\n",
       "    .dataframe thead th {\n",
       "        text-align: right;\n",
       "    }\n",
       "</style>\n",
       "<table border=\"1\" class=\"dataframe\">\n",
       "  <thead>\n",
       "    <tr style=\"text-align: right;\">\n",
       "      <th></th>\n",
       "      <th>CrimeCode</th>\n",
       "      <th>Location</th>\n",
       "      <th>Description</th>\n",
       "      <th>Weapon</th>\n",
       "      <th>Victim_Gender</th>\n",
       "      <th>Victim_Age</th>\n",
       "      <th>Victim_Race</th>\n",
       "      <th>District</th>\n",
       "      <th>Date</th>\n",
       "      <th>Time</th>\n",
       "    </tr>\n",
       "  </thead>\n",
       "  <tbody>\n",
       "    <tr>\n",
       "      <th>0</th>\n",
       "      <td>7C</td>\n",
       "      <td>1500 CLIFTON AVE</td>\n",
       "      <td>AUTO THEFT</td>\n",
       "      <td>Other</td>\n",
       "      <td>F</td>\n",
       "      <td>27.0</td>\n",
       "      <td>BLACK_OR_AFRICAN_AMERICAN</td>\n",
       "      <td>SOUTHEAST</td>\n",
       "      <td>2023-06-11</td>\n",
       "      <td>3:45 AM</td>\n",
       "    </tr>\n",
       "    <tr>\n",
       "      <th>1</th>\n",
       "      <td>5F</td>\n",
       "      <td>Unknown</td>\n",
       "      <td>BURGLARY</td>\n",
       "      <td>Other</td>\n",
       "      <td>U</td>\n",
       "      <td>38.0</td>\n",
       "      <td>OTHER</td>\n",
       "      <td>SOUTHERN</td>\n",
       "      <td>2023-06-10</td>\n",
       "      <td>7:00 PM</td>\n",
       "    </tr>\n",
       "    <tr>\n",
       "      <th>2</th>\n",
       "      <td>7C</td>\n",
       "      <td>700 E 25TH ST</td>\n",
       "      <td>AUTO THEFT</td>\n",
       "      <td>Other</td>\n",
       "      <td>U</td>\n",
       "      <td>38.0</td>\n",
       "      <td>OTHER</td>\n",
       "      <td>NORTHEAST</td>\n",
       "      <td>2023-06-11</td>\n",
       "      <td>2:00 AM</td>\n",
       "    </tr>\n",
       "    <tr>\n",
       "      <th>3</th>\n",
       "      <td>4E</td>\n",
       "      <td>4200 PIMLICO RD</td>\n",
       "      <td>COMMON ASSAULT</td>\n",
       "      <td>PERSONAL_WEAPONS</td>\n",
       "      <td>F</td>\n",
       "      <td>23.0</td>\n",
       "      <td>BLACK_OR_AFRICAN_AMERICAN</td>\n",
       "      <td>NORTHWEST</td>\n",
       "      <td>2023-06-10</td>\n",
       "      <td>8:16 PM</td>\n",
       "    </tr>\n",
       "    <tr>\n",
       "      <th>4</th>\n",
       "      <td>4B</td>\n",
       "      <td>2900 CHERRYLAND RD</td>\n",
       "      <td>AGG. ASSAULT</td>\n",
       "      <td>KNIFE_CUTTING_INSTRUMENT</td>\n",
       "      <td>F</td>\n",
       "      <td>39.0</td>\n",
       "      <td>BLACK_OR_AFRICAN_AMERICAN</td>\n",
       "      <td>SOUTHERN</td>\n",
       "      <td>2023-06-11</td>\n",
       "      <td>5:00 AM</td>\n",
       "    </tr>\n",
       "    <tr>\n",
       "      <th>...</th>\n",
       "      <td>...</td>\n",
       "      <td>...</td>\n",
       "      <td>...</td>\n",
       "      <td>...</td>\n",
       "      <td>...</td>\n",
       "      <td>...</td>\n",
       "      <td>...</td>\n",
       "      <td>...</td>\n",
       "      <td>...</td>\n",
       "      <td>...</td>\n",
       "    </tr>\n",
       "    <tr>\n",
       "      <th>995</th>\n",
       "      <td>5F</td>\n",
       "      <td>3000 PULASKI HWY</td>\n",
       "      <td>BURGLARY</td>\n",
       "      <td>Other</td>\n",
       "      <td>M</td>\n",
       "      <td>44.0</td>\n",
       "      <td>OTHER</td>\n",
       "      <td>SOUTHEAST</td>\n",
       "      <td>2023-05-30</td>\n",
       "      <td>6:00 AM</td>\n",
       "    </tr>\n",
       "    <tr>\n",
       "      <th>996</th>\n",
       "      <td>6J</td>\n",
       "      <td>6200 OLD HARFORD RD</td>\n",
       "      <td>LARCENY</td>\n",
       "      <td>Other</td>\n",
       "      <td>M</td>\n",
       "      <td>41.0</td>\n",
       "      <td>BLACK_OR_AFRICAN_AMERICAN</td>\n",
       "      <td>NORTHEAST</td>\n",
       "      <td>2023-05-30</td>\n",
       "      <td>2:00 PM</td>\n",
       "    </tr>\n",
       "    <tr>\n",
       "      <th>997</th>\n",
       "      <td>6D</td>\n",
       "      <td>100 E Mt Royal Avenue</td>\n",
       "      <td>LARCENY FROM AUTO</td>\n",
       "      <td>Other</td>\n",
       "      <td>F</td>\n",
       "      <td>33.0</td>\n",
       "      <td>WHITE</td>\n",
       "      <td>CENTRAL</td>\n",
       "      <td>2023-05-30</td>\n",
       "      <td>11:00 PM</td>\n",
       "    </tr>\n",
       "    <tr>\n",
       "      <th>998</th>\n",
       "      <td>7C</td>\n",
       "      <td>4700 POST RD</td>\n",
       "      <td>AUTO THEFT</td>\n",
       "      <td>Other</td>\n",
       "      <td>M</td>\n",
       "      <td>56.0</td>\n",
       "      <td>BLACK_OR_AFRICAN_AMERICAN</td>\n",
       "      <td>NORTHWEST</td>\n",
       "      <td>2023-05-30</td>\n",
       "      <td>10:00 PM</td>\n",
       "    </tr>\n",
       "    <tr>\n",
       "      <th>999</th>\n",
       "      <td>7C</td>\n",
       "      <td>700 MELVILLE AVE</td>\n",
       "      <td>AUTO THEFT</td>\n",
       "      <td>Other</td>\n",
       "      <td>F</td>\n",
       "      <td>29.0</td>\n",
       "      <td>BLACK_OR_AFRICAN_AMERICAN</td>\n",
       "      <td>NORTHERN</td>\n",
       "      <td>2023-05-31</td>\n",
       "      <td>2:00 AM</td>\n",
       "    </tr>\n",
       "  </tbody>\n",
       "</table>\n",
       "<p>1000 rows × 10 columns</p>\n",
       "</div>"
      ],
      "text/plain": [
       "    CrimeCode               Location        Description  \\\n",
       "0          7C       1500 CLIFTON AVE         AUTO THEFT   \n",
       "1          5F                Unknown           BURGLARY   \n",
       "2          7C          700 E 25TH ST         AUTO THEFT   \n",
       "3          4E        4200 PIMLICO RD     COMMON ASSAULT   \n",
       "4          4B     2900 CHERRYLAND RD       AGG. ASSAULT   \n",
       "..        ...                    ...                ...   \n",
       "995        5F       3000 PULASKI HWY           BURGLARY   \n",
       "996        6J    6200 OLD HARFORD RD            LARCENY   \n",
       "997        6D  100 E Mt Royal Avenue  LARCENY FROM AUTO   \n",
       "998        7C           4700 POST RD         AUTO THEFT   \n",
       "999        7C       700 MELVILLE AVE         AUTO THEFT   \n",
       "\n",
       "                       Weapon Victim_Gender  Victim_Age  \\\n",
       "0                       Other             F        27.0   \n",
       "1                       Other             U        38.0   \n",
       "2                       Other             U        38.0   \n",
       "3            PERSONAL_WEAPONS             F        23.0   \n",
       "4    KNIFE_CUTTING_INSTRUMENT             F        39.0   \n",
       "..                        ...           ...         ...   \n",
       "995                     Other             M        44.0   \n",
       "996                     Other             M        41.0   \n",
       "997                     Other             F        33.0   \n",
       "998                     Other             M        56.0   \n",
       "999                     Other             F        29.0   \n",
       "\n",
       "                   Victim_Race   District       Date      Time  \n",
       "0    BLACK_OR_AFRICAN_AMERICAN  SOUTHEAST 2023-06-11   3:45 AM  \n",
       "1                        OTHER   SOUTHERN 2023-06-10   7:00 PM  \n",
       "2                        OTHER  NORTHEAST 2023-06-11   2:00 AM  \n",
       "3    BLACK_OR_AFRICAN_AMERICAN  NORTHWEST 2023-06-10   8:16 PM  \n",
       "4    BLACK_OR_AFRICAN_AMERICAN   SOUTHERN 2023-06-11   5:00 AM  \n",
       "..                         ...        ...        ...       ...  \n",
       "995                      OTHER  SOUTHEAST 2023-05-30   6:00 AM  \n",
       "996  BLACK_OR_AFRICAN_AMERICAN  NORTHEAST 2023-05-30   2:00 PM  \n",
       "997                      WHITE    CENTRAL 2023-05-30  11:00 PM  \n",
       "998  BLACK_OR_AFRICAN_AMERICAN  NORTHWEST 2023-05-30  10:00 PM  \n",
       "999  BLACK_OR_AFRICAN_AMERICAN   NORTHERN 2023-05-31   2:00 AM  \n",
       "\n",
       "[1000 rows x 10 columns]"
      ]
     },
     "execution_count": 42,
     "metadata": {},
     "output_type": "execute_result"
    }
   ],
   "source": [
    "df"
   ]
  },
  {
   "cell_type": "code",
   "execution_count": 43,
   "id": "88b560f8",
   "metadata": {},
   "outputs": [
    {
     "data": {
      "text/html": [
       "<div>\n",
       "<style scoped>\n",
       "    .dataframe tbody tr th:only-of-type {\n",
       "        vertical-align: middle;\n",
       "    }\n",
       "\n",
       "    .dataframe tbody tr th {\n",
       "        vertical-align: top;\n",
       "    }\n",
       "\n",
       "    .dataframe thead th {\n",
       "        text-align: right;\n",
       "    }\n",
       "</style>\n",
       "<table border=\"1\" class=\"dataframe\">\n",
       "  <thead>\n",
       "    <tr style=\"text-align: right;\">\n",
       "      <th></th>\n",
       "      <th>CrimeCode</th>\n",
       "      <th>Location</th>\n",
       "      <th>Description</th>\n",
       "      <th>Weapon</th>\n",
       "      <th>Victim_Gender</th>\n",
       "      <th>Victim_Age</th>\n",
       "      <th>Victim_Race</th>\n",
       "      <th>District</th>\n",
       "      <th>Date</th>\n",
       "      <th>Time</th>\n",
       "    </tr>\n",
       "  </thead>\n",
       "  <tbody>\n",
       "    <tr>\n",
       "      <th>26</th>\n",
       "      <td>4E</td>\n",
       "      <td>5200 ROLAND AVE</td>\n",
       "      <td>COMMON ASSAULT</td>\n",
       "      <td>PERSONAL_WEAPONS</td>\n",
       "      <td>M</td>\n",
       "      <td>10.0</td>\n",
       "      <td>BLACK_OR_AFRICAN_AMERICAN</td>\n",
       "      <td>NORTHERN</td>\n",
       "      <td>2023-05-31</td>\n",
       "      <td>8:40 PM</td>\n",
       "    </tr>\n",
       "    <tr>\n",
       "      <th>51</th>\n",
       "      <td>4A</td>\n",
       "      <td>Unknown</td>\n",
       "      <td>AGG. ASSAULT</td>\n",
       "      <td>FIREARM</td>\n",
       "      <td>F</td>\n",
       "      <td>1.0</td>\n",
       "      <td>BLACK_OR_AFRICAN_AMERICAN</td>\n",
       "      <td>NORTHWEST</td>\n",
       "      <td>2023-05-22</td>\n",
       "      <td>8:17 PM</td>\n",
       "    </tr>\n",
       "    <tr>\n",
       "      <th>52</th>\n",
       "      <td>4A</td>\n",
       "      <td>Unknown</td>\n",
       "      <td>AGG. ASSAULT</td>\n",
       "      <td>FIREARM</td>\n",
       "      <td>F</td>\n",
       "      <td>3.0</td>\n",
       "      <td>BLACK_OR_AFRICAN_AMERICAN</td>\n",
       "      <td>NORTHWEST</td>\n",
       "      <td>2023-05-22</td>\n",
       "      <td>8:17 PM</td>\n",
       "    </tr>\n",
       "    <tr>\n",
       "      <th>202</th>\n",
       "      <td>4A</td>\n",
       "      <td>4100 EIERMAN AVE</td>\n",
       "      <td>AGG. ASSAULT</td>\n",
       "      <td>HANDGUN</td>\n",
       "      <td>M</td>\n",
       "      <td>9.0</td>\n",
       "      <td>BLACK_OR_AFRICAN_AMERICAN</td>\n",
       "      <td>NORTHEAST</td>\n",
       "      <td>2023-05-31</td>\n",
       "      <td>7:30 PM</td>\n",
       "    </tr>\n",
       "    <tr>\n",
       "      <th>204</th>\n",
       "      <td>4A</td>\n",
       "      <td>4100 EIERMAN AVE</td>\n",
       "      <td>AGG. ASSAULT</td>\n",
       "      <td>HANDGUN</td>\n",
       "      <td>F</td>\n",
       "      <td>2.0</td>\n",
       "      <td>BLACK_OR_AFRICAN_AMERICAN</td>\n",
       "      <td>NORTHEAST</td>\n",
       "      <td>2023-05-31</td>\n",
       "      <td>7:30 PM</td>\n",
       "    </tr>\n",
       "    <tr>\n",
       "      <th>550</th>\n",
       "      <td>4E</td>\n",
       "      <td>2200 W LEXINGTON ST</td>\n",
       "      <td>COMMON ASSAULT</td>\n",
       "      <td>Other</td>\n",
       "      <td>M</td>\n",
       "      <td>7.0</td>\n",
       "      <td>BLACK_OR_AFRICAN_AMERICAN</td>\n",
       "      <td>WESTERN</td>\n",
       "      <td>2023-05-30</td>\n",
       "      <td>11:00 PM</td>\n",
       "    </tr>\n",
       "    <tr>\n",
       "      <th>562</th>\n",
       "      <td>4E</td>\n",
       "      <td>2500 ALLENDALE RD</td>\n",
       "      <td>COMMON ASSAULT</td>\n",
       "      <td>PERSONAL_WEAPONS</td>\n",
       "      <td>M</td>\n",
       "      <td>8.0</td>\n",
       "      <td>BLACK_OR_AFRICAN_AMERICAN</td>\n",
       "      <td>NORTHWEST</td>\n",
       "      <td>2023-05-02</td>\n",
       "      <td>5:00 PM</td>\n",
       "    </tr>\n",
       "    <tr>\n",
       "      <th>698</th>\n",
       "      <td>3AO</td>\n",
       "      <td>600 LIGHT ST</td>\n",
       "      <td>ROBBERY</td>\n",
       "      <td>Other</td>\n",
       "      <td>F</td>\n",
       "      <td>0.0</td>\n",
       "      <td>BLACK_OR_AFRICAN_AMERICAN</td>\n",
       "      <td>CENTRAL</td>\n",
       "      <td>2023-06-10</td>\n",
       "      <td>8:11 PM</td>\n",
       "    </tr>\n",
       "    <tr>\n",
       "      <th>941</th>\n",
       "      <td>4B</td>\n",
       "      <td>2200 W FAYETTE ST</td>\n",
       "      <td>AGG. ASSAULT</td>\n",
       "      <td>PERSONAL_WEAPONS</td>\n",
       "      <td>F</td>\n",
       "      <td>10.0</td>\n",
       "      <td>BLACK_OR_AFRICAN_AMERICAN</td>\n",
       "      <td>WESTERN</td>\n",
       "      <td>2023-04-23</td>\n",
       "      <td>5:00 AM</td>\n",
       "    </tr>\n",
       "    <tr>\n",
       "      <th>961</th>\n",
       "      <td>4E</td>\n",
       "      <td>900 FLEET ST</td>\n",
       "      <td>COMMON ASSAULT</td>\n",
       "      <td>PERSONAL_WEAPONS</td>\n",
       "      <td>F</td>\n",
       "      <td>7.0</td>\n",
       "      <td>BLACK_OR_AFRICAN_AMERICAN</td>\n",
       "      <td>SOUTHEAST</td>\n",
       "      <td>2023-05-13</td>\n",
       "      <td>1:15 AM</td>\n",
       "    </tr>\n",
       "  </tbody>\n",
       "</table>\n",
       "</div>"
      ],
      "text/plain": [
       "    CrimeCode             Location     Description            Weapon  \\\n",
       "26         4E      5200 ROLAND AVE  COMMON ASSAULT  PERSONAL_WEAPONS   \n",
       "51         4A              Unknown    AGG. ASSAULT           FIREARM   \n",
       "52         4A              Unknown    AGG. ASSAULT           FIREARM   \n",
       "202        4A     4100 EIERMAN AVE    AGG. ASSAULT           HANDGUN   \n",
       "204        4A     4100 EIERMAN AVE    AGG. ASSAULT           HANDGUN   \n",
       "550        4E  2200 W LEXINGTON ST  COMMON ASSAULT             Other   \n",
       "562        4E    2500 ALLENDALE RD  COMMON ASSAULT  PERSONAL_WEAPONS   \n",
       "698       3AO         600 LIGHT ST         ROBBERY             Other   \n",
       "941        4B    2200 W FAYETTE ST    AGG. ASSAULT  PERSONAL_WEAPONS   \n",
       "961        4E         900 FLEET ST  COMMON ASSAULT  PERSONAL_WEAPONS   \n",
       "\n",
       "    Victim_Gender  Victim_Age                Victim_Race   District  \\\n",
       "26              M        10.0  BLACK_OR_AFRICAN_AMERICAN   NORTHERN   \n",
       "51              F         1.0  BLACK_OR_AFRICAN_AMERICAN  NORTHWEST   \n",
       "52              F         3.0  BLACK_OR_AFRICAN_AMERICAN  NORTHWEST   \n",
       "202             M         9.0  BLACK_OR_AFRICAN_AMERICAN  NORTHEAST   \n",
       "204             F         2.0  BLACK_OR_AFRICAN_AMERICAN  NORTHEAST   \n",
       "550             M         7.0  BLACK_OR_AFRICAN_AMERICAN    WESTERN   \n",
       "562             M         8.0  BLACK_OR_AFRICAN_AMERICAN  NORTHWEST   \n",
       "698             F         0.0  BLACK_OR_AFRICAN_AMERICAN    CENTRAL   \n",
       "941             F        10.0  BLACK_OR_AFRICAN_AMERICAN    WESTERN   \n",
       "961             F         7.0  BLACK_OR_AFRICAN_AMERICAN  SOUTHEAST   \n",
       "\n",
       "          Date      Time  \n",
       "26  2023-05-31   8:40 PM  \n",
       "51  2023-05-22   8:17 PM  \n",
       "52  2023-05-22   8:17 PM  \n",
       "202 2023-05-31   7:30 PM  \n",
       "204 2023-05-31   7:30 PM  \n",
       "550 2023-05-30  11:00 PM  \n",
       "562 2023-05-02   5:00 PM  \n",
       "698 2023-06-10   8:11 PM  \n",
       "941 2023-04-23   5:00 AM  \n",
       "961 2023-05-13   1:15 AM  "
      ]
     },
     "execution_count": 43,
     "metadata": {},
     "output_type": "execute_result"
    }
   ],
   "source": [
    "df[df[\"Victim_Age\"]<=10]"
   ]
  },
  {
   "cell_type": "code",
   "execution_count": 44,
   "id": "f9c0917a",
   "metadata": {},
   "outputs": [
    {
     "data": {
      "text/plain": [
       "NORTHEAST    185\n",
       "SOUTHEAST    127\n",
       "NORTHERN     114\n",
       "CENTRAL      110\n",
       "NORTHWEST    106\n",
       "SOUTHWEST    104\n",
       "SOUTHERN      91\n",
       "EASTERN       87\n",
       "WESTERN       76\n",
       "Name: District, dtype: int64"
      ]
     },
     "execution_count": 44,
     "metadata": {},
     "output_type": "execute_result"
    }
   ],
   "source": [
    "df['District'].value_counts()"
   ]
  },
  {
   "cell_type": "code",
   "execution_count": 45,
   "id": "d5a987d1",
   "metadata": {},
   "outputs": [],
   "source": [
    "df['Year']=df['Date'].dt.year"
   ]
  },
  {
   "cell_type": "code",
   "execution_count": 46,
   "id": "4c181f8e",
   "metadata": {},
   "outputs": [],
   "source": [
    "df['Day']=df['Date'].dt.day"
   ]
  },
  {
   "cell_type": "code",
   "execution_count": 47,
   "id": "63d544cb",
   "metadata": {},
   "outputs": [],
   "source": [
    "df['Month']=df['Date'].dt.month_name()"
   ]
  },
  {
   "cell_type": "code",
   "execution_count": 48,
   "id": "af20d4ae",
   "metadata": {
    "scrolled": true
   },
   "outputs": [
    {
     "data": {
      "text/html": [
       "<div>\n",
       "<style scoped>\n",
       "    .dataframe tbody tr th:only-of-type {\n",
       "        vertical-align: middle;\n",
       "    }\n",
       "\n",
       "    .dataframe tbody tr th {\n",
       "        vertical-align: top;\n",
       "    }\n",
       "\n",
       "    .dataframe thead th {\n",
       "        text-align: right;\n",
       "    }\n",
       "</style>\n",
       "<table border=\"1\" class=\"dataframe\">\n",
       "  <thead>\n",
       "    <tr style=\"text-align: right;\">\n",
       "      <th></th>\n",
       "      <th>CrimeCode</th>\n",
       "      <th>Location</th>\n",
       "      <th>Description</th>\n",
       "      <th>Weapon</th>\n",
       "      <th>Victim_Gender</th>\n",
       "      <th>Victim_Age</th>\n",
       "      <th>Victim_Race</th>\n",
       "      <th>District</th>\n",
       "      <th>Date</th>\n",
       "      <th>Time</th>\n",
       "      <th>Year</th>\n",
       "      <th>Day</th>\n",
       "      <th>Month</th>\n",
       "    </tr>\n",
       "  </thead>\n",
       "  <tbody>\n",
       "    <tr>\n",
       "      <th>0</th>\n",
       "      <td>7C</td>\n",
       "      <td>1500 CLIFTON AVE</td>\n",
       "      <td>AUTO THEFT</td>\n",
       "      <td>Other</td>\n",
       "      <td>F</td>\n",
       "      <td>27.0</td>\n",
       "      <td>BLACK_OR_AFRICAN_AMERICAN</td>\n",
       "      <td>SOUTHEAST</td>\n",
       "      <td>2023-06-11</td>\n",
       "      <td>3:45 AM</td>\n",
       "      <td>2023</td>\n",
       "      <td>11</td>\n",
       "      <td>June</td>\n",
       "    </tr>\n",
       "    <tr>\n",
       "      <th>1</th>\n",
       "      <td>5F</td>\n",
       "      <td>Unknown</td>\n",
       "      <td>BURGLARY</td>\n",
       "      <td>Other</td>\n",
       "      <td>U</td>\n",
       "      <td>38.0</td>\n",
       "      <td>OTHER</td>\n",
       "      <td>SOUTHERN</td>\n",
       "      <td>2023-06-10</td>\n",
       "      <td>7:00 PM</td>\n",
       "      <td>2023</td>\n",
       "      <td>10</td>\n",
       "      <td>June</td>\n",
       "    </tr>\n",
       "    <tr>\n",
       "      <th>2</th>\n",
       "      <td>7C</td>\n",
       "      <td>700 E 25TH ST</td>\n",
       "      <td>AUTO THEFT</td>\n",
       "      <td>Other</td>\n",
       "      <td>U</td>\n",
       "      <td>38.0</td>\n",
       "      <td>OTHER</td>\n",
       "      <td>NORTHEAST</td>\n",
       "      <td>2023-06-11</td>\n",
       "      <td>2:00 AM</td>\n",
       "      <td>2023</td>\n",
       "      <td>11</td>\n",
       "      <td>June</td>\n",
       "    </tr>\n",
       "    <tr>\n",
       "      <th>3</th>\n",
       "      <td>4E</td>\n",
       "      <td>4200 PIMLICO RD</td>\n",
       "      <td>COMMON ASSAULT</td>\n",
       "      <td>PERSONAL_WEAPONS</td>\n",
       "      <td>F</td>\n",
       "      <td>23.0</td>\n",
       "      <td>BLACK_OR_AFRICAN_AMERICAN</td>\n",
       "      <td>NORTHWEST</td>\n",
       "      <td>2023-06-10</td>\n",
       "      <td>8:16 PM</td>\n",
       "      <td>2023</td>\n",
       "      <td>10</td>\n",
       "      <td>June</td>\n",
       "    </tr>\n",
       "    <tr>\n",
       "      <th>4</th>\n",
       "      <td>4B</td>\n",
       "      <td>2900 CHERRYLAND RD</td>\n",
       "      <td>AGG. ASSAULT</td>\n",
       "      <td>KNIFE_CUTTING_INSTRUMENT</td>\n",
       "      <td>F</td>\n",
       "      <td>39.0</td>\n",
       "      <td>BLACK_OR_AFRICAN_AMERICAN</td>\n",
       "      <td>SOUTHERN</td>\n",
       "      <td>2023-06-11</td>\n",
       "      <td>5:00 AM</td>\n",
       "      <td>2023</td>\n",
       "      <td>11</td>\n",
       "      <td>June</td>\n",
       "    </tr>\n",
       "  </tbody>\n",
       "</table>\n",
       "</div>"
      ],
      "text/plain": [
       "  CrimeCode            Location     Description                    Weapon  \\\n",
       "0        7C    1500 CLIFTON AVE      AUTO THEFT                     Other   \n",
       "1        5F             Unknown        BURGLARY                     Other   \n",
       "2        7C       700 E 25TH ST      AUTO THEFT                     Other   \n",
       "3        4E     4200 PIMLICO RD  COMMON ASSAULT          PERSONAL_WEAPONS   \n",
       "4        4B  2900 CHERRYLAND RD    AGG. ASSAULT  KNIFE_CUTTING_INSTRUMENT   \n",
       "\n",
       "  Victim_Gender  Victim_Age                Victim_Race   District       Date  \\\n",
       "0             F        27.0  BLACK_OR_AFRICAN_AMERICAN  SOUTHEAST 2023-06-11   \n",
       "1             U        38.0                      OTHER   SOUTHERN 2023-06-10   \n",
       "2             U        38.0                      OTHER  NORTHEAST 2023-06-11   \n",
       "3             F        23.0  BLACK_OR_AFRICAN_AMERICAN  NORTHWEST 2023-06-10   \n",
       "4             F        39.0  BLACK_OR_AFRICAN_AMERICAN   SOUTHERN 2023-06-11   \n",
       "\n",
       "      Time  Year  Day Month  \n",
       "0  3:45 AM  2023   11  June  \n",
       "1  7:00 PM  2023   10  June  \n",
       "2  2:00 AM  2023   11  June  \n",
       "3  8:16 PM  2023   10  June  \n",
       "4  5:00 AM  2023   11  June  "
      ]
     },
     "execution_count": 48,
     "metadata": {},
     "output_type": "execute_result"
    }
   ],
   "source": [
    "df.head()"
   ]
  },
  {
   "cell_type": "code",
   "execution_count": 49,
   "id": "dab83218",
   "metadata": {},
   "outputs": [
    {
     "data": {
      "text/plain": [
       "May      567\n",
       "June     213\n",
       "April    212\n",
       "March      8\n",
       "Name: Month, dtype: int64"
      ]
     },
     "execution_count": 49,
     "metadata": {},
     "output_type": "execute_result"
    }
   ],
   "source": [
    "df.Month.value_counts()"
   ]
  },
  {
   "cell_type": "code",
   "execution_count": 50,
   "id": "015fa266",
   "metadata": {},
   "outputs": [
    {
     "name": "stdout",
     "output_type": "stream",
     "text": [
      "Month  Day\n",
      "June   10     105\n",
      "May    31      95\n",
      "       13      92\n",
      "       3       81\n",
      "April  22      77\n",
      "May    12      76\n",
      "       30      73\n",
      "April  23      66\n",
      "May    2       51\n",
      "June   11      46\n",
      "       9       40\n",
      "May    22      39\n",
      "April  12      31\n",
      "May    4       26\n",
      "June   1       22\n",
      "April  13      19\n",
      "May    23      19\n",
      "       21      10\n",
      "April  1        9\n",
      "March  31       8\n",
      "April  21       6\n",
      "May    14       5\n",
      "April  24       4\n",
      "dtype: int64\n"
     ]
    }
   ],
   "source": [
    "print(df[['Month','Day']].value_counts())"
   ]
  },
  {
   "cell_type": "code",
   "execution_count": 51,
   "id": "282b7917",
   "metadata": {},
   "outputs": [
    {
     "data": {
      "text/html": [
       "<div>\n",
       "<style scoped>\n",
       "    .dataframe tbody tr th:only-of-type {\n",
       "        vertical-align: middle;\n",
       "    }\n",
       "\n",
       "    .dataframe tbody tr th {\n",
       "        vertical-align: top;\n",
       "    }\n",
       "\n",
       "    .dataframe thead th {\n",
       "        text-align: right;\n",
       "    }\n",
       "</style>\n",
       "<table border=\"1\" class=\"dataframe\">\n",
       "  <thead>\n",
       "    <tr style=\"text-align: right;\">\n",
       "      <th></th>\n",
       "      <th>Month</th>\n",
       "      <th>Victim_Race</th>\n",
       "      <th>Count</th>\n",
       "    </tr>\n",
       "  </thead>\n",
       "  <tbody>\n",
       "    <tr>\n",
       "      <th>0</th>\n",
       "      <td>April</td>\n",
       "      <td>AMERICAN_INDIAN_OR_ALASKA_NATIVE</td>\n",
       "      <td>1</td>\n",
       "    </tr>\n",
       "    <tr>\n",
       "      <th>1</th>\n",
       "      <td>April</td>\n",
       "      <td>ASIAN</td>\n",
       "      <td>1</td>\n",
       "    </tr>\n",
       "    <tr>\n",
       "      <th>2</th>\n",
       "      <td>April</td>\n",
       "      <td>BLACK_OR_AFRICAN_AMERICAN</td>\n",
       "      <td>136</td>\n",
       "    </tr>\n",
       "    <tr>\n",
       "      <th>3</th>\n",
       "      <td>April</td>\n",
       "      <td>OTHER</td>\n",
       "      <td>31</td>\n",
       "    </tr>\n",
       "    <tr>\n",
       "      <th>4</th>\n",
       "      <td>April</td>\n",
       "      <td>WHITE</td>\n",
       "      <td>43</td>\n",
       "    </tr>\n",
       "    <tr>\n",
       "      <th>5</th>\n",
       "      <td>June</td>\n",
       "      <td>AMERICAN_INDIAN_OR_ALASKA_NATIVE</td>\n",
       "      <td>1</td>\n",
       "    </tr>\n",
       "    <tr>\n",
       "      <th>6</th>\n",
       "      <td>June</td>\n",
       "      <td>ASIAN</td>\n",
       "      <td>3</td>\n",
       "    </tr>\n",
       "    <tr>\n",
       "      <th>7</th>\n",
       "      <td>June</td>\n",
       "      <td>BLACK_OR_AFRICAN_AMERICAN</td>\n",
       "      <td>120</td>\n",
       "    </tr>\n",
       "    <tr>\n",
       "      <th>8</th>\n",
       "      <td>June</td>\n",
       "      <td>OTHER</td>\n",
       "      <td>53</td>\n",
       "    </tr>\n",
       "    <tr>\n",
       "      <th>9</th>\n",
       "      <td>June</td>\n",
       "      <td>WHITE</td>\n",
       "      <td>36</td>\n",
       "    </tr>\n",
       "    <tr>\n",
       "      <th>10</th>\n",
       "      <td>March</td>\n",
       "      <td>ASIAN</td>\n",
       "      <td>1</td>\n",
       "    </tr>\n",
       "    <tr>\n",
       "      <th>11</th>\n",
       "      <td>March</td>\n",
       "      <td>BLACK_OR_AFRICAN_AMERICAN</td>\n",
       "      <td>5</td>\n",
       "    </tr>\n",
       "    <tr>\n",
       "      <th>12</th>\n",
       "      <td>March</td>\n",
       "      <td>OTHER</td>\n",
       "      <td>1</td>\n",
       "    </tr>\n",
       "    <tr>\n",
       "      <th>13</th>\n",
       "      <td>March</td>\n",
       "      <td>WHITE</td>\n",
       "      <td>1</td>\n",
       "    </tr>\n",
       "    <tr>\n",
       "      <th>14</th>\n",
       "      <td>May</td>\n",
       "      <td>AMERICAN_INDIAN_OR_ALASKA_NATIVE</td>\n",
       "      <td>2</td>\n",
       "    </tr>\n",
       "    <tr>\n",
       "      <th>15</th>\n",
       "      <td>May</td>\n",
       "      <td>ASIAN</td>\n",
       "      <td>8</td>\n",
       "    </tr>\n",
       "    <tr>\n",
       "      <th>16</th>\n",
       "      <td>May</td>\n",
       "      <td>BLACK_OR_AFRICAN_AMERICAN</td>\n",
       "      <td>328</td>\n",
       "    </tr>\n",
       "    <tr>\n",
       "      <th>17</th>\n",
       "      <td>May</td>\n",
       "      <td>OTHER</td>\n",
       "      <td>137</td>\n",
       "    </tr>\n",
       "    <tr>\n",
       "      <th>18</th>\n",
       "      <td>May</td>\n",
       "      <td>WHITE</td>\n",
       "      <td>92</td>\n",
       "    </tr>\n",
       "  </tbody>\n",
       "</table>\n",
       "</div>"
      ],
      "text/plain": [
       "    Month                       Victim_Race  Count\n",
       "0   April  AMERICAN_INDIAN_OR_ALASKA_NATIVE      1\n",
       "1   April                             ASIAN      1\n",
       "2   April         BLACK_OR_AFRICAN_AMERICAN    136\n",
       "3   April                             OTHER     31\n",
       "4   April                             WHITE     43\n",
       "5    June  AMERICAN_INDIAN_OR_ALASKA_NATIVE      1\n",
       "6    June                             ASIAN      3\n",
       "7    June         BLACK_OR_AFRICAN_AMERICAN    120\n",
       "8    June                             OTHER     53\n",
       "9    June                             WHITE     36\n",
       "10  March                             ASIAN      1\n",
       "11  March         BLACK_OR_AFRICAN_AMERICAN      5\n",
       "12  March                             OTHER      1\n",
       "13  March                             WHITE      1\n",
       "14    May  AMERICAN_INDIAN_OR_ALASKA_NATIVE      2\n",
       "15    May                             ASIAN      8\n",
       "16    May         BLACK_OR_AFRICAN_AMERICAN    328\n",
       "17    May                             OTHER    137\n",
       "18    May                             WHITE     92"
      ]
     },
     "execution_count": 51,
     "metadata": {},
     "output_type": "execute_result"
    }
   ],
   "source": [
    "df.groupby(['Month','Victim_Race']).size().reset_index(name='Count')"
   ]
  },
  {
   "cell_type": "code",
   "execution_count": 52,
   "id": "9dcdb394",
   "metadata": {},
   "outputs": [
    {
     "data": {
      "text/plain": [
       "dtype('float64')"
      ]
     },
     "execution_count": 52,
     "metadata": {},
     "output_type": "execute_result"
    }
   ],
   "source": [
    "df.Victim_Age.dtype"
   ]
  },
  {
   "cell_type": "code",
   "execution_count": 53,
   "id": "5b5d840c",
   "metadata": {},
   "outputs": [
    {
     "data": {
      "text/plain": [
       "COMMON ASSAULT          232\n",
       "AUTO THEFT              198\n",
       "LARCENY                 174\n",
       "AGG. ASSAULT            119\n",
       "LARCENY FROM AUTO        90\n",
       "ROBBERY                  71\n",
       "BURGLARY                 63\n",
       "SHOOTING                 14\n",
       "ROBBERY - CARJACKING     12\n",
       "ROBBERY - COMMERCIAL     11\n",
       "RAPE                      8\n",
       "ARSON                     5\n",
       "HOMICIDE                  3\n",
       "Name: Description, dtype: int64"
      ]
     },
     "execution_count": 53,
     "metadata": {},
     "output_type": "execute_result"
    }
   ],
   "source": [
    "df.Description.value_counts()"
   ]
  },
  {
   "cell_type": "code",
   "execution_count": 54,
   "id": "f9a17364",
   "metadata": {},
   "outputs": [],
   "source": [
    "df.to_csv(\"Crime_clean_data.csv\",index=False)"
   ]
  },
  {
   "cell_type": "code",
   "execution_count": null,
   "id": "c9f8d242",
   "metadata": {},
   "outputs": [],
   "source": []
  }
 ],
 "metadata": {
  "kernelspec": {
   "display_name": "Python 3 (ipykernel)",
   "language": "python",
   "name": "python3"
  },
  "language_info": {
   "codemirror_mode": {
    "name": "ipython",
    "version": 3
   },
   "file_extension": ".py",
   "mimetype": "text/x-python",
   "name": "python",
   "nbconvert_exporter": "python",
   "pygments_lexer": "ipython3",
   "version": "3.9.7"
  }
 },
 "nbformat": 4,
 "nbformat_minor": 5
}
